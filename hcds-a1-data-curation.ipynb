{
 "cells": [
  {
   "cell_type": "markdown",
   "metadata": {},
   "source": [
    "# Stage 0: SETUP"
   ]
  },
  {
   "cell_type": "markdown",
   "metadata": {},
   "source": [
    "The below libraries are used for this project. For a full list of requirements and versions, please see the requirements.txt file included in the repository."
   ]
  },
  {
   "cell_type": "code",
   "execution_count": 3,
   "metadata": {},
   "outputs": [],
   "source": [
    "import json\n",
    "import requests\n",
    "import os\n",
    "import pandas as pd"
   ]
  },
  {
   "cell_type": "markdown",
   "metadata": {},
   "source": [
    "# Stage 1: DATA ACQUISITION"
   ]
  },
  {
   "cell_type": "markdown",
   "metadata": {},
   "source": [
    "## Overview\n",
    "Data is acquired through the Wikimedia REST API and saved as json files. These files are included in the repository in the *data* folder; you made skip to Stage 2 and use the included files if desired."
   ]
  },
  {
   "cell_type": "markdown",
   "metadata": {},
   "source": [
    "We will request data from both the [Legacy](https://wikitech.wikimedia.org/wiki/Analytics/AQS/Legacy_Pagecounts) and [Pageviews](https://wikitech.wikimedia.org/wiki/Analytics/AQS/Pageviews) API.\n",
    "\n",
    "We define base templates for the parameters. English wikipedia with monthyl granularity will always be requested, and on the pageviews api we always request agent=user to filter out crawler and bot traffic. We also request consistent dateranges for each api"
   ]
  },
  {
   "cell_type": "code",
   "execution_count": 10,
   "metadata": {},
   "outputs": [],
   "source": [
    "endpoint_legacy = 'https://wikimedia.org/api/rest_v1/metrics/legacy/pagecounts/aggregate/{project}/{site}/{granularity}/{start}/{end}'\n",
    "endpoint_pageviews = 'https://wikimedia.org/api/rest_v1/metrics/pageviews/aggregate/{project}/{site}/{agent}/{granularity}/{start}/{end}'\n",
    "params_legacy = {\"project\" : \"en.wikipedia.org\",\n",
    "                 \"granularity\" : \"monthly\",\n",
    "                 \"start\" : \"2008010100\",\n",
    "                 \"end\" : \"2016080100\"\n",
    "                }\n",
    "\n",
    "params_pageviews = {\"project\" : \"en.wikipedia.org\",\n",
    "                    \"agent\" : \"user\",\n",
    "                    \"granularity\" : \"monthly\",\n",
    "                    \"start\" : \"2015070100\",\n",
    "                    \"end\" : \"2021090100\"\n",
    "                }\n",
    "\n"
   ]
  },
  {
   "cell_type": "markdown",
   "metadata": {},
   "source": [
    "We request each endpoint for each access type, except for aggregates. All data is saved in the *data* folder.\n",
    "    "
   ]
  },
  {
   "cell_type": "code",
   "execution_count": 11,
   "metadata": {},
   "outputs": [],
   "source": [
    "def api_call(endpoint,parameters):\n",
    "    headers = {\n",
    "        'User-Agent': 'https://github.com/Cain93',\n",
    "        'From': 'ccase20@uw.edu'\n",
    "    }\n",
    "    call = requests.get(endpoint.format(**parameters), headers=headers)\n",
    "    response = call.json()\n",
    "    \n",
    "    return response"
   ]
  },
  {
   "cell_type": "code",
   "execution_count": 2,
   "metadata": {},
   "outputs": [
    {
     "ename": "NameError",
     "evalue": "name 'api_call' is not defined",
     "output_type": "error",
     "traceback": [
      "\u001b[1;31m---------------------------------------------------------------------------\u001b[0m",
      "\u001b[1;31mNameError\u001b[0m                                 Traceback (most recent call last)",
      "\u001b[1;32mD:\\temp/ipykernel_20200/3342462806.py\u001b[0m in \u001b[0;36m<module>\u001b[1;34m\u001b[0m\n\u001b[0;32m      3\u001b[0m \u001b[0mfile_template\u001b[0m \u001b[1;33m=\u001b[0m \u001b[1;34m\"data/{apiname}_{site}_{daterange}.json\"\u001b[0m\u001b[1;33m\u001b[0m\u001b[1;33m\u001b[0m\u001b[0m\n\u001b[0;32m      4\u001b[0m \u001b[1;32mfor\u001b[0m \u001b[0msite\u001b[0m \u001b[1;32min\u001b[0m \u001b[0mlegacy_sites\u001b[0m\u001b[1;33m:\u001b[0m\u001b[1;33m\u001b[0m\u001b[1;33m\u001b[0m\u001b[0m\n\u001b[1;32m----> 5\u001b[1;33m     \u001b[0mdata\u001b[0m \u001b[1;33m=\u001b[0m \u001b[0mapi_call\u001b[0m\u001b[1;33m(\u001b[0m\u001b[0mendpoint_legacy\u001b[0m\u001b[1;33m,\u001b[0m \u001b[1;33m{\u001b[0m\u001b[1;33m**\u001b[0m\u001b[0mparams_legacy\u001b[0m\u001b[1;33m,\u001b[0m \u001b[1;34m\"site\"\u001b[0m\u001b[1;33m:\u001b[0m\u001b[0msite\u001b[0m\u001b[1;33m}\u001b[0m\u001b[1;33m)\u001b[0m\u001b[1;33m\u001b[0m\u001b[1;33m\u001b[0m\u001b[0m\n\u001b[0m\u001b[0;32m      6\u001b[0m     \u001b[0mfileName\u001b[0m \u001b[1;33m=\u001b[0m \u001b[0mfile_template\u001b[0m\u001b[1;33m.\u001b[0m\u001b[0mformat\u001b[0m\u001b[1;33m(\u001b[0m\u001b[0mapiname\u001b[0m\u001b[1;33m=\u001b[0m\u001b[1;34m\"pagecount\"\u001b[0m\u001b[1;33m,\u001b[0m \u001b[0msite\u001b[0m\u001b[1;33m=\u001b[0m\u001b[0msite\u001b[0m\u001b[1;33m,\u001b[0m \u001b[0mdaterange\u001b[0m \u001b[1;33m=\u001b[0m \u001b[1;34m\"200801-201607\"\u001b[0m\u001b[1;33m)\u001b[0m\u001b[1;33m\u001b[0m\u001b[1;33m\u001b[0m\u001b[0m\n\u001b[0;32m      7\u001b[0m     \u001b[1;32mwith\u001b[0m \u001b[0mopen\u001b[0m\u001b[1;33m(\u001b[0m\u001b[0mfileName\u001b[0m\u001b[1;33m,\u001b[0m \u001b[1;34m'w'\u001b[0m\u001b[1;33m)\u001b[0m \u001b[1;32mas\u001b[0m \u001b[0moutfile\u001b[0m\u001b[1;33m:\u001b[0m\u001b[1;33m\u001b[0m\u001b[1;33m\u001b[0m\u001b[0m\n",
      "\u001b[1;31mNameError\u001b[0m: name 'api_call' is not defined"
     ]
    }
   ],
   "source": [
    "legacy_sites = [\"desktop-site\", \"mobile-site\"]\n",
    "pageview_sites = [\"desktop\", \"mobile-app\", \"mobile-web\"]\n",
    "file_template = \"data/{apiname}_{site}_{daterange}.json\"\n",
    "for site in legacy_sites:\n",
    "    data = api_call(endpoint_legacy, {**params_legacy, \"site\":site})\n",
    "    fileName = file_template.format(apiname=\"pagecount\", site=site, daterange = \"200801-201607\")\n",
    "    with open(fileName, 'w') as outfile:\n",
    "        json.dump(data, outfile)\n",
    "for site in pageview_sites:\n",
    "    data = api_call(endpoint_pageviews, {**params_pageviews, \"site\":site})\n",
    "    fileName = file_template.format(apiname=\"pageview\", site=site, daterange = \"201507-202108\")\n",
    "    with open(fileName, 'w') as outfile:\n",
    "        json.dump(data, outfile)  \n",
    "    \n"
   ]
  },
  {
   "cell_type": "markdown",
   "metadata": {},
   "source": [
    "# Stage 2: DATA PROCESSING"
   ]
  },
  {
   "cell_type": "markdown",
   "metadata": {},
   "source": [
    "First we open each file and combine into a dataframe. While doing, we rename columns to make them consistent between legacy and pageview data."
   ]
  },
  {
   "cell_type": "code",
   "execution_count": 4,
   "metadata": {},
   "outputs": [
    {
     "data": {
      "text/html": [
       "<div>\n",
       "<style scoped>\n",
       "    .dataframe tbody tr th:only-of-type {\n",
       "        vertical-align: middle;\n",
       "    }\n",
       "\n",
       "    .dataframe tbody tr th {\n",
       "        vertical-align: top;\n",
       "    }\n",
       "\n",
       "    .dataframe thead th {\n",
       "        text-align: right;\n",
       "    }\n",
       "</style>\n",
       "<table border=\"1\" class=\"dataframe\">\n",
       "  <thead>\n",
       "    <tr style=\"text-align: right;\">\n",
       "      <th></th>\n",
       "      <th>project</th>\n",
       "      <th>access</th>\n",
       "      <th>granularity</th>\n",
       "      <th>timestamp</th>\n",
       "      <th>views</th>\n",
       "      <th>agent</th>\n",
       "    </tr>\n",
       "  </thead>\n",
       "  <tbody>\n",
       "    <tr>\n",
       "      <th>0</th>\n",
       "      <td>en.wikipedia</td>\n",
       "      <td>desktop-site</td>\n",
       "      <td>monthly</td>\n",
       "      <td>2008010100</td>\n",
       "      <td>4930902570</td>\n",
       "      <td>NaN</td>\n",
       "    </tr>\n",
       "    <tr>\n",
       "      <th>1</th>\n",
       "      <td>en.wikipedia</td>\n",
       "      <td>desktop-site</td>\n",
       "      <td>monthly</td>\n",
       "      <td>2008020100</td>\n",
       "      <td>4818393763</td>\n",
       "      <td>NaN</td>\n",
       "    </tr>\n",
       "    <tr>\n",
       "      <th>2</th>\n",
       "      <td>en.wikipedia</td>\n",
       "      <td>desktop-site</td>\n",
       "      <td>monthly</td>\n",
       "      <td>2008030100</td>\n",
       "      <td>4955405809</td>\n",
       "      <td>NaN</td>\n",
       "    </tr>\n",
       "    <tr>\n",
       "      <th>3</th>\n",
       "      <td>en.wikipedia</td>\n",
       "      <td>desktop-site</td>\n",
       "      <td>monthly</td>\n",
       "      <td>2008040100</td>\n",
       "      <td>5159162183</td>\n",
       "      <td>NaN</td>\n",
       "    </tr>\n",
       "    <tr>\n",
       "      <th>4</th>\n",
       "      <td>en.wikipedia</td>\n",
       "      <td>desktop-site</td>\n",
       "      <td>monthly</td>\n",
       "      <td>2008050100</td>\n",
       "      <td>5584691092</td>\n",
       "      <td>NaN</td>\n",
       "    </tr>\n",
       "  </tbody>\n",
       "</table>\n",
       "</div>"
      ],
      "text/plain": [
       "        project        access granularity   timestamp       views agent\n",
       "0  en.wikipedia  desktop-site     monthly  2008010100  4930902570   NaN\n",
       "1  en.wikipedia  desktop-site     monthly  2008020100  4818393763   NaN\n",
       "2  en.wikipedia  desktop-site     monthly  2008030100  4955405809   NaN\n",
       "3  en.wikipedia  desktop-site     monthly  2008040100  5159162183   NaN\n",
       "4  en.wikipedia  desktop-site     monthly  2008050100  5584691092   NaN"
      ]
     },
     "execution_count": 4,
     "metadata": {},
     "output_type": "execute_result"
    }
   ],
   "source": [
    "combined_data = pd.DataFrame()\n",
    "col_names = {\n",
    "    \"access-site\": \"access\",\n",
    "    \"count\": \"views\"\n",
    "}\n",
    "\n",
    "for filename in os.listdir(\"data\"):\n",
    "    file = open(\"data/\" + filename, \"r\")\n",
    "    file_data = json.loads(file.read())\n",
    "    file_df = pd.DataFrame.from_records(file_data[\"items\"]).rename(columns = col_names)\n",
    "    \n",
    "    combined_data = combined_data.append(file_df)\n",
    "\n",
    "combined_data.head()"
   ]
  },
  {
   "cell_type": "markdown",
   "metadata": {},
   "source": [
    "Then we parse the timestamp into year and month, and remove unused columns."
   ]
  },
  {
   "cell_type": "code",
   "execution_count": 5,
   "metadata": {},
   "outputs": [
    {
     "data": {
      "text/html": [
       "<div>\n",
       "<style scoped>\n",
       "    .dataframe tbody tr th:only-of-type {\n",
       "        vertical-align: middle;\n",
       "    }\n",
       "\n",
       "    .dataframe tbody tr th {\n",
       "        vertical-align: top;\n",
       "    }\n",
       "\n",
       "    .dataframe thead th {\n",
       "        text-align: right;\n",
       "    }\n",
       "</style>\n",
       "<table border=\"1\" class=\"dataframe\">\n",
       "  <thead>\n",
       "    <tr style=\"text-align: right;\">\n",
       "      <th></th>\n",
       "      <th>access</th>\n",
       "      <th>views</th>\n",
       "      <th>year</th>\n",
       "      <th>month</th>\n",
       "    </tr>\n",
       "  </thead>\n",
       "  <tbody>\n",
       "    <tr>\n",
       "      <th>0</th>\n",
       "      <td>desktop-site</td>\n",
       "      <td>4930902570</td>\n",
       "      <td>2008</td>\n",
       "      <td>01</td>\n",
       "    </tr>\n",
       "    <tr>\n",
       "      <th>1</th>\n",
       "      <td>desktop-site</td>\n",
       "      <td>4818393763</td>\n",
       "      <td>2008</td>\n",
       "      <td>02</td>\n",
       "    </tr>\n",
       "    <tr>\n",
       "      <th>2</th>\n",
       "      <td>desktop-site</td>\n",
       "      <td>4955405809</td>\n",
       "      <td>2008</td>\n",
       "      <td>03</td>\n",
       "    </tr>\n",
       "    <tr>\n",
       "      <th>3</th>\n",
       "      <td>desktop-site</td>\n",
       "      <td>5159162183</td>\n",
       "      <td>2008</td>\n",
       "      <td>04</td>\n",
       "    </tr>\n",
       "    <tr>\n",
       "      <th>4</th>\n",
       "      <td>desktop-site</td>\n",
       "      <td>5584691092</td>\n",
       "      <td>2008</td>\n",
       "      <td>05</td>\n",
       "    </tr>\n",
       "  </tbody>\n",
       "</table>\n",
       "</div>"
      ],
      "text/plain": [
       "         access       views  year month\n",
       "0  desktop-site  4930902570  2008    01\n",
       "1  desktop-site  4818393763  2008    02\n",
       "2  desktop-site  4955405809  2008    03\n",
       "3  desktop-site  5159162183  2008    04\n",
       "4  desktop-site  5584691092  2008    05"
      ]
     },
     "execution_count": 5,
     "metadata": {},
     "output_type": "execute_result"
    }
   ],
   "source": [
    "combined_data[\"year\"] = combined_data[\"timestamp\"].apply(lambda x: x[0:4])\n",
    "combined_data[\"month\"] = combined_data[\"timestamp\"].apply(lambda x: x[4:6])\n",
    "cleaned_data = combined_data.drop(columns=[\"timestamp\", \"granularity\", \"project\", \"agent\"])\n",
    "cleaned_data.head()"
   ]
  },
  {
   "cell_type": "markdown",
   "metadata": {},
   "source": [
    "Now data is pivoted to create a new column for each type of view. After pivoting:\n",
    "1. Mobile-web and mobile-app columns are combined into mobile\n",
    "1. Columns are rename into more descriptive names\n",
    "1. Aggregate columns for all pageview and pagecount views are created\n",
    "1. Unused columns are dropped"
   ]
  },
  {
   "cell_type": "code",
   "execution_count": 6,
   "metadata": {},
   "outputs": [
    {
     "name": "stdout",
     "output_type": "stream",
     "text": [
      "access      desktop  desktop-site  mobile-app  mobile-site  mobile-web\n",
      "year month                                                            \n",
      "2008 01         NaN  4.930903e+09         NaN          NaN         NaN\n",
      "     02         NaN  4.818394e+09         NaN          NaN         NaN\n",
      "     03         NaN  4.955406e+09         NaN          NaN         NaN\n",
      "     04         NaN  5.159162e+09         NaN          NaN         NaN\n",
      "     05         NaN  5.584691e+09         NaN          NaN         NaN\n"
     ]
    },
    {
     "data": {
      "text/html": [
       "<div>\n",
       "<style scoped>\n",
       "    .dataframe tbody tr th:only-of-type {\n",
       "        vertical-align: middle;\n",
       "    }\n",
       "\n",
       "    .dataframe tbody tr th {\n",
       "        vertical-align: top;\n",
       "    }\n",
       "\n",
       "    .dataframe thead th {\n",
       "        text-align: right;\n",
       "    }\n",
       "</style>\n",
       "<table border=\"1\" class=\"dataframe\">\n",
       "  <thead>\n",
       "    <tr style=\"text-align: right;\">\n",
       "      <th></th>\n",
       "      <th>access</th>\n",
       "      <th>pageview_desktop_views</th>\n",
       "      <th>pagecount_desktop_views</th>\n",
       "      <th>pagecount_mobile_views</th>\n",
       "      <th>pageview_mobile_views</th>\n",
       "      <th>pagecount_all_views</th>\n",
       "      <th>pageview_all_views</th>\n",
       "    </tr>\n",
       "    <tr>\n",
       "      <th>year</th>\n",
       "      <th>month</th>\n",
       "      <th></th>\n",
       "      <th></th>\n",
       "      <th></th>\n",
       "      <th></th>\n",
       "      <th></th>\n",
       "      <th></th>\n",
       "    </tr>\n",
       "  </thead>\n",
       "  <tbody>\n",
       "    <tr>\n",
       "      <th rowspan=\"5\" valign=\"top\">2008</th>\n",
       "      <th>01</th>\n",
       "      <td>NaN</td>\n",
       "      <td>4.930903e+09</td>\n",
       "      <td>NaN</td>\n",
       "      <td>NaN</td>\n",
       "      <td>NaN</td>\n",
       "      <td>NaN</td>\n",
       "    </tr>\n",
       "    <tr>\n",
       "      <th>02</th>\n",
       "      <td>NaN</td>\n",
       "      <td>4.818394e+09</td>\n",
       "      <td>NaN</td>\n",
       "      <td>NaN</td>\n",
       "      <td>NaN</td>\n",
       "      <td>NaN</td>\n",
       "    </tr>\n",
       "    <tr>\n",
       "      <th>03</th>\n",
       "      <td>NaN</td>\n",
       "      <td>4.955406e+09</td>\n",
       "      <td>NaN</td>\n",
       "      <td>NaN</td>\n",
       "      <td>NaN</td>\n",
       "      <td>NaN</td>\n",
       "    </tr>\n",
       "    <tr>\n",
       "      <th>04</th>\n",
       "      <td>NaN</td>\n",
       "      <td>5.159162e+09</td>\n",
       "      <td>NaN</td>\n",
       "      <td>NaN</td>\n",
       "      <td>NaN</td>\n",
       "      <td>NaN</td>\n",
       "    </tr>\n",
       "    <tr>\n",
       "      <th>05</th>\n",
       "      <td>NaN</td>\n",
       "      <td>5.584691e+09</td>\n",
       "      <td>NaN</td>\n",
       "      <td>NaN</td>\n",
       "      <td>NaN</td>\n",
       "      <td>NaN</td>\n",
       "    </tr>\n",
       "  </tbody>\n",
       "</table>\n",
       "</div>"
      ],
      "text/plain": [
       "access      pageview_desktop_views  pagecount_desktop_views  \\\n",
       "year month                                                    \n",
       "2008 01                        NaN             4.930903e+09   \n",
       "     02                        NaN             4.818394e+09   \n",
       "     03                        NaN             4.955406e+09   \n",
       "     04                        NaN             5.159162e+09   \n",
       "     05                        NaN             5.584691e+09   \n",
       "\n",
       "access      pagecount_mobile_views  pageview_mobile_views  \\\n",
       "year month                                                  \n",
       "2008 01                        NaN                    NaN   \n",
       "     02                        NaN                    NaN   \n",
       "     03                        NaN                    NaN   \n",
       "     04                        NaN                    NaN   \n",
       "     05                        NaN                    NaN   \n",
       "\n",
       "access      pagecount_all_views  pageview_all_views  \n",
       "year month                                           \n",
       "2008 01                     NaN                 NaN  \n",
       "     02                     NaN                 NaN  \n",
       "     03                     NaN                 NaN  \n",
       "     04                     NaN                 NaN  \n",
       "     05                     NaN                 NaN  "
      ]
     },
     "execution_count": 6,
     "metadata": {},
     "output_type": "execute_result"
    }
   ],
   "source": [
    "# Pivot\n",
    "pivot_data = cleaned_data.pivot(index = [\"year\", \"month\"], columns=[\"access\"])\n",
    "pivot_data.columns = pivot_data.columns.droplevel()\n",
    "\n",
    "print(pivot_data.head())\n",
    "\n",
    "# Combine mobil views\n",
    "pivot_data[\"mobile\"] = pivot_data[\"mobile-web\"] + pivot_data[\"mobile-app\"]\n",
    "pivot_data = pivot_data.drop(columns = [\"mobile-web\", \"mobile-app\"])\n",
    "\n",
    "# Rename and aggregate\n",
    "pivot_data = pivot_data.rename(columns = {\"desktop-site\":\"pagecount_desktop_views\",\n",
    "                                          \"mobile-site\": \"pagecount_mobile_views\",\n",
    "                                          \"desktop\":\"pageview_desktop_views\",\n",
    "                                          \"mobile\":\"pageview_mobile_views\",\n",
    "                                          })\n",
    "pivot_data[\"pagecount_all_views\"] = pivot_data[\"pagecount_desktop_views\"] + pivot_data[\"pagecount_mobile_views\"]\n",
    "pivot_data[\"pageview_all_views\"] = pivot_data[\"pageview_desktop_views\"] + pivot_data[\"pageview_mobile_views\"]\n",
    "\n",
    "pivot_data.head()\n"
   ]
  },
  {
   "cell_type": "markdown",
   "metadata": {},
   "source": [
    "The data is converted to csv and saved."
   ]
  },
  {
   "cell_type": "code",
   "execution_count": 8,
   "metadata": {},
   "outputs": [],
   "source": [
    "pivot_data.to_csv('en-wikipedia_traffic_200712-202108.csv')"
   ]
  },
  {
   "cell_type": "markdown",
   "metadata": {},
   "source": [
    "# Stage 3: ANALYSIS"
   ]
  },
  {
   "cell_type": "code",
   "execution_count": 9,
   "metadata": {},
   "outputs": [
    {
     "data": {
      "text/plain": [
       "(164, 6)"
      ]
     },
     "execution_count": 9,
     "metadata": {},
     "output_type": "execute_result"
    }
   ],
   "source": [
    "pivot_data.shape"
   ]
  },
  {
   "cell_type": "code",
   "execution_count": null,
   "metadata": {},
   "outputs": [],
   "source": []
  }
 ],
 "metadata": {
  "kernelspec": {
   "display_name": "data512-a1",
   "language": "python",
   "name": "data512-a1"
  },
  "language_info": {
   "codemirror_mode": {
    "name": "ipython",
    "version": 3
   },
   "file_extension": ".py",
   "mimetype": "text/x-python",
   "name": "python",
   "nbconvert_exporter": "python",
   "pygments_lexer": "ipython3",
   "version": "3.7.9"
  }
 },
 "nbformat": 4,
 "nbformat_minor": 4
}
